{
 "cells": [
  {
   "cell_type": "markdown",
   "id": "26ac8cc6-d9e5-446b-a44d-b77d383524a6",
   "metadata": {},
   "source": [
    "<h1 align=\"center\"> Detecting Fraud from transactions</h1>\n",
    "\n",
    "<h2> Introduction </h2>\n",
    "In this project we will impolement various predictive models to accurately predict if a transaction is a normal payment or fraud. The input data here is given in JSON format and the features are not scales. We will start by applying various transformations to prepare our data for ingestion by the models. \n",
    "\n",
    "\n",
    "<h2> Questions that need to be answered: </h2>\n",
    "\n",
    "<span style=\"color:blue\"><b>Question 1: Load</b><br></span>\n",
    "<ul>\n",
    "<li> <span style=\"color:blue\">a)</span> Programmatically download and load transactions data </li>\n",
    "<li> <span style=\"color:blue\">b)</span> Describe the structure of the data. Number of records and fields in each record. </li>\n",
    "<li> <span style=\"color:blue\">c)</span> Determine the Classifiers we are going to use and decide which one has a higher accuracy. </li>\n",
    "<li> <span style=\"color:blue\">d)</span> Report additional basic summary statistics for each field. Provide count of null, minimum, maximum, and unique values where appropriate. </li>\n",
    "</ul>\n",
    "\n",
    "<span style=\"color:blue\"><b>Question 2: Plot</b><br></span>\n",
    "<ul>\n",
    "<li> <span style=\"color:blue\">a)</span> Plot histogram of the processed amounts of each transaction (the transactionAmount column) </li>\n",
    "<li> <span style=\"color:blue\">b)</span> Comment on the underlying structure and your hypotheses about that structure. </li>\n",
    "</ul>\n",
    "\n",
    "\n",
    "<span style=\"color:blue\"><b>Question 3: Data Wrangling - Duplicate Transactions</b><br></span>\n",
    "<ul>\n",
    "<li> <span style=\"color:blue\">a)</span> Programmatically identify reversed and multiswipe transactions </li>\n",
    "<li> <span style=\"color:blue\">b)</span> Total number of transactions for reversed transactions and multi-swipe transactions (exclude the first normal transation)</li>\n",
    "<li> <span style=\"color:blue\">c)</span> Total amound in dollar for reversed transactions and multi-swipe transactions (exclude the first normal transation)</li>\n",
    "<li> <span style=\"color:blue\">d)</span> Report findnig regarding either transaction</li>\n",
    "</ul>\n",
    "\n",
    "\n",
    "<span style=\"color:blue\"><b>Question 4: Model</b><br></span>\n",
    "<ul>\n",
    "    \n",
    "<li> <span style=\"color:blue\">a)</span> Each of the transactions in the dataset has a field called isFraud. Please build a predictive model to determine whether a given transaction will be fraudulent or not. Use as much of the data as you like (or all of it).</li>\n",
    "<li> <span style=\"color:blue\">b)</span> Provide an estimate of performance using an appropriate sample, and show your work.</li>\n",
    "<li> <span style=\"color:blue\">c)</span> Please explain your methodology (modeling algorithm/method used and why, what features/data you found useful, what questions you have, and what you would do next with more time</li>\n",
    "</ul>"
   ]
  },
  {
   "cell_type": "code",
   "execution_count": 1,
   "id": "d90c99f9-bf28-45bc-b220-d9024970aa4f",
   "metadata": {},
   "outputs": [
    {
     "name": "stdout",
     "output_type": "stream",
     "text": [
      "fraud_detector is imported\n"
     ]
    }
   ],
   "source": [
    "import numpy as np\n",
    "import pandas as pd\n",
    "pd.set_option('display.max_columns', None)\n",
    "import pickle\n",
    "import json\n",
    "from collections import defaultdict\n",
    "import fraud_detector as frdt\n",
    "import matplotlib.pyplot as plt\n",
    "import requests\n",
    "\n",
    "from datetime import datetime\n",
    "import seaborn as sns\n",
    "from sklearn.ensemble import GradientBoostingClassifier, RandomForestClassifier\n",
    "from sklearn.feature_selection import VarianceThreshold\n",
    "from sklearn.linear_model import LogisticRegression\n",
    "from sklearn.metrics import (average_precision_score, confusion_matrix,\n",
    "                             plot_precision_recall_curve, roc_auc_score)\n",
    "from sklearn.model_selection import GridSearchCV, train_test_split\n",
    "from sklearn.pipeline import Pipeline\n",
    "from sklearn.preprocessing import StandardScaler"
   ]
  },
  {
   "cell_type": "markdown",
   "id": "2e029650-90de-48d9-8321-e0c96f279cc4",
   "metadata": {},
   "source": [
    "<hr style=\"border:2px solid red\">"
   ]
  },
  {
   "cell_type": "markdown",
   "id": "7edeff3d-70cb-4420-8093-1f706f178bea",
   "metadata": {},
   "source": [
    "<h2><span style=\"color:blue\"><b>Question 1: Load</b><br></span></h2>"
   ]
  },
  {
   "cell_type": "markdown",
   "id": "67e107fe-bbe6-4d73-bc05-dbb2a3b05ea1",
   "metadata": {},
   "source": [
    "<h4><ul>\n",
    "<li> <span style=\"color:blue\">1.a)</span> I have defined a class that automatically checks the data folder for the existence of the \"transactions.txt\" file. If the file exists it loads it autmatically as an attribute of the FraudDetection class. The programmatic download and loading is triggered when we define an instance of the class as following:</li>\n",
    "</ul></h4>"
   ]
  },
  {
   "cell_type": "code",
   "execution_count": 2,
   "id": "227d16e3-1f8b-4955-a7ec-9f84e95a7a7a",
   "metadata": {},
   "outputs": [
    {
     "name": "stdout",
     "output_type": "stream",
     "text": [
      "Parsing data...\n",
      "This will take approximately 80 seconds if the file is already downloaded\n",
      "Dropping columns: customerId, and single-valued columns\n"
     ]
    }
   ],
   "source": [
    "fd = frdt.FraudDetection()"
   ]
  },
  {
   "cell_type": "markdown",
   "id": "a43ff45d-5353-4c76-8020-4cd4d34d5088",
   "metadata": {},
   "source": [
    "<h4><ui>\n",
    "<li> <span style=\"color:blue\">1.b)</span> The dataset is consisted of 786363 records/rows and each record has  and 29 columns or fields. Our target field is the \"isFraud\" column. This column identifies if a transaction was normal, with the value \"False\", or fraud, with value \"True\". The details of the fields in every record is as follows:</li>\n",
    "</ui></h4>"
   ]
  },
  {
   "cell_type": "code",
   "execution_count": 4,
   "id": "2cccb432-205a-49b7-8c17-2e42a5a1b665",
   "metadata": {},
   "outputs": [
    {
     "name": "stdout",
     "output_type": "stream",
     "text": [
      "<class 'pandas.core.frame.DataFrame'>\n",
      "RangeIndex: 786363 entries, 0 to 786362\n",
      "Data columns (total 29 columns):\n",
      " #   Column                    Non-Null Count   Dtype  \n",
      "---  ------                    --------------   -----  \n",
      " 0   accountNumber             786363 non-null  object \n",
      " 1   customerId                786363 non-null  object \n",
      " 2   creditLimit               786363 non-null  float64\n",
      " 3   availableMoney            786363 non-null  float64\n",
      " 4   transactionDateTime       786363 non-null  object \n",
      " 5   transactionAmount         786363 non-null  float64\n",
      " 6   merchantName              786363 non-null  object \n",
      " 7   acqCountry                786363 non-null  object \n",
      " 8   merchantCountryCode       786363 non-null  object \n",
      " 9   posEntryMode              786363 non-null  object \n",
      " 10  posConditionCode          786363 non-null  object \n",
      " 11  merchantCategoryCode      786363 non-null  object \n",
      " 12  currentExpDate            786363 non-null  object \n",
      " 13  accountOpenDate           786363 non-null  object \n",
      " 14  dateOfLastAddressChange   786363 non-null  object \n",
      " 15  cardCVV                   786363 non-null  object \n",
      " 16  enteredCVV                786363 non-null  object \n",
      " 17  cardLast4Digits           786363 non-null  object \n",
      " 18  transactionType           786363 non-null  object \n",
      " 19  echoBuffer                786363 non-null  object \n",
      " 20  currentBalance            786363 non-null  float64\n",
      " 21  merchantCity              786363 non-null  object \n",
      " 22  merchantState             786363 non-null  object \n",
      " 23  merchantZip               786363 non-null  object \n",
      " 24  cardPresent               786363 non-null  bool   \n",
      " 25  posOnPremises             786363 non-null  object \n",
      " 26  recurringAuthInd          786363 non-null  object \n",
      " 27  expirationDateKeyInMatch  786363 non-null  bool   \n",
      " 28  isFraud                   786363 non-null  bool   \n",
      "dtypes: bool(3), float64(4), object(22)\n",
      "memory usage: 158.2+ MB\n"
     ]
    }
   ],
   "source": [
    "transactions = fd.raw_transactions\n",
    "transactions.info()"
   ]
  },
  {
   "cell_type": "markdown",
   "id": "c1ed1152-eea1-4099-a832-2771a2721b34",
   "metadata": {},
   "source": [
    "<h4><ui>\n",
    "<li> <span style=\"color:blue\">1.c)</span> we can find the null values using the isnull method. Using the isnull method we see that there are no null values in the data. However, there are empty values which we can find as shown below. Additional basic statistics for each field can be found with the describe method from pandas. I have also included the number of unique values for each column below. There are a few columns that are completely empty. These columns can also be filtered out using the single_valued attribute of FraudDetection class in fraud_detector.py. Note that here I have not performed any transformation of the data. I will perform all the necessary transformations in the modeling section.</li>\n",
    "</ui></h4>"
   ]
  },
  {
   "cell_type": "code",
   "execution_count": 5,
   "id": "9fffded1-6ee4-4697-853f-551d7e34777f",
   "metadata": {},
   "outputs": [
    {
     "data": {
      "text/plain": [
       "accountNumber               0\n",
       "customerId                  0\n",
       "creditLimit                 0\n",
       "availableMoney              0\n",
       "transactionDateTime         0\n",
       "transactionAmount           0\n",
       "merchantName                0\n",
       "acqCountry                  0\n",
       "merchantCountryCode         0\n",
       "posEntryMode                0\n",
       "posConditionCode            0\n",
       "merchantCategoryCode        0\n",
       "currentExpDate              0\n",
       "accountOpenDate             0\n",
       "dateOfLastAddressChange     0\n",
       "cardCVV                     0\n",
       "enteredCVV                  0\n",
       "cardLast4Digits             0\n",
       "transactionType             0\n",
       "echoBuffer                  0\n",
       "currentBalance              0\n",
       "merchantCity                0\n",
       "merchantState               0\n",
       "merchantZip                 0\n",
       "cardPresent                 0\n",
       "posOnPremises               0\n",
       "recurringAuthInd            0\n",
       "expirationDateKeyInMatch    0\n",
       "isFraud                     0\n",
       "dtype: int64"
      ]
     },
     "execution_count": 5,
     "metadata": {},
     "output_type": "execute_result"
    }
   ],
   "source": [
    "transactions.isnull().sum()"
   ]
  },
  {
   "cell_type": "code",
   "execution_count": 6,
   "id": "dd7e49d4-5cc8-4d31-b569-a45f5b245961",
   "metadata": {},
   "outputs": [
    {
     "data": {
      "text/html": [
       "<div>\n",
       "<style scoped>\n",
       "    .dataframe tbody tr th:only-of-type {\n",
       "        vertical-align: middle;\n",
       "    }\n",
       "\n",
       "    .dataframe tbody tr th {\n",
       "        vertical-align: top;\n",
       "    }\n",
       "\n",
       "    .dataframe thead th {\n",
       "        text-align: right;\n",
       "    }\n",
       "</style>\n",
       "<table border=\"1\" class=\"dataframe\">\n",
       "  <thead>\n",
       "    <tr style=\"text-align: right;\">\n",
       "      <th></th>\n",
       "      <th>count</th>\n",
       "      <th>mean</th>\n",
       "      <th>std</th>\n",
       "      <th>min</th>\n",
       "      <th>25%</th>\n",
       "      <th>50%</th>\n",
       "      <th>75%</th>\n",
       "      <th>max</th>\n",
       "    </tr>\n",
       "  </thead>\n",
       "  <tbody>\n",
       "    <tr>\n",
       "      <th>creditLimit</th>\n",
       "      <td>786363.0</td>\n",
       "      <td>10759.464459</td>\n",
       "      <td>11636.174890</td>\n",
       "      <td>250.00</td>\n",
       "      <td>5000.00</td>\n",
       "      <td>7500.00</td>\n",
       "      <td>15000.000</td>\n",
       "      <td>50000.00</td>\n",
       "    </tr>\n",
       "    <tr>\n",
       "      <th>availableMoney</th>\n",
       "      <td>786363.0</td>\n",
       "      <td>6250.725369</td>\n",
       "      <td>8880.783989</td>\n",
       "      <td>-1005.63</td>\n",
       "      <td>1077.42</td>\n",
       "      <td>3184.86</td>\n",
       "      <td>7500.000</td>\n",
       "      <td>50000.00</td>\n",
       "    </tr>\n",
       "    <tr>\n",
       "      <th>transactionAmount</th>\n",
       "      <td>786363.0</td>\n",
       "      <td>136.985791</td>\n",
       "      <td>147.725569</td>\n",
       "      <td>0.00</td>\n",
       "      <td>33.65</td>\n",
       "      <td>87.90</td>\n",
       "      <td>191.480</td>\n",
       "      <td>2011.54</td>\n",
       "    </tr>\n",
       "    <tr>\n",
       "      <th>currentBalance</th>\n",
       "      <td>786363.0</td>\n",
       "      <td>4508.739089</td>\n",
       "      <td>6457.442068</td>\n",
       "      <td>0.00</td>\n",
       "      <td>689.91</td>\n",
       "      <td>2451.76</td>\n",
       "      <td>5291.095</td>\n",
       "      <td>47498.81</td>\n",
       "    </tr>\n",
       "  </tbody>\n",
       "</table>\n",
       "</div>"
      ],
      "text/plain": [
       "                      count          mean           std      min      25%  \\\n",
       "creditLimit        786363.0  10759.464459  11636.174890   250.00  5000.00   \n",
       "availableMoney     786363.0   6250.725369   8880.783989 -1005.63  1077.42   \n",
       "transactionAmount  786363.0    136.985791    147.725569     0.00    33.65   \n",
       "currentBalance     786363.0   4508.739089   6457.442068     0.00   689.91   \n",
       "\n",
       "                       50%        75%       max  \n",
       "creditLimit        7500.00  15000.000  50000.00  \n",
       "availableMoney     3184.86   7500.000  50000.00  \n",
       "transactionAmount    87.90    191.480   2011.54  \n",
       "currentBalance     2451.76   5291.095  47498.81  "
      ]
     },
     "execution_count": 6,
     "metadata": {},
     "output_type": "execute_result"
    }
   ],
   "source": [
    "transactions.describe().T"
   ]
  },
  {
   "cell_type": "code",
   "execution_count": 7,
   "id": "9887d58b-ec5e-45ec-bc30-0fb421d7c0d0",
   "metadata": {},
   "outputs": [
    {
     "data": {
      "text/plain": [
       "accountNumber                 5000\n",
       "customerId                    5000\n",
       "creditLimit                     10\n",
       "availableMoney              521916\n",
       "transactionDateTime         776637\n",
       "transactionAmount            66038\n",
       "merchantName                  2490\n",
       "acqCountry                       5\n",
       "merchantCountryCode              5\n",
       "posEntryMode                     6\n",
       "posConditionCode                 4\n",
       "merchantCategoryCode            19\n",
       "currentExpDate                 165\n",
       "accountOpenDate               1820\n",
       "dateOfLastAddressChange       2184\n",
       "cardCVV                        899\n",
       "enteredCVV                     976\n",
       "cardLast4Digits               5246\n",
       "transactionType                  4\n",
       "echoBuffer                       1\n",
       "currentBalance              487318\n",
       "merchantCity                     1\n",
       "merchantState                    1\n",
       "merchantZip                      1\n",
       "cardPresent                      2\n",
       "posOnPremises                    1\n",
       "recurringAuthInd                 1\n",
       "expirationDateKeyInMatch         2\n",
       "isFraud                          2\n",
       "dtype: int64"
      ]
     },
     "execution_count": 7,
     "metadata": {},
     "output_type": "execute_result"
    }
   ],
   "source": [
    "transactions.nunique()"
   ]
  },
  {
   "cell_type": "markdown",
   "id": "ce0e1f41-31a1-4b88-a0da-f5c78ae235d9",
   "metadata": {},
   "source": [
    "<h4><ui>\n",
    "<li> <span style=\"color:blue\">1.c) continued:</span> Let's find and drop the columns that are completely empty using the single_valued attribute of FraudDetection class and look at the cells that are empty.\n",
    "</li>\n",
    "</ui></h4>"
   ]
  },
  {
   "cell_type": "code",
   "execution_count": 8,
   "id": "78763dc3-592b-49d0-86db-9040860b956a",
   "metadata": {},
   "outputs": [],
   "source": [
    "single_val_cols = transactions.nunique()[transactions.nunique()==1]\n",
    "transactions = transactions.drop(columns=single_val_cols.index)"
   ]
  },
  {
   "cell_type": "code",
   "execution_count": 9,
   "id": "26643a58-4858-42e5-a540-e4bb53b04f9f",
   "metadata": {},
   "outputs": [
    {
     "name": "stdout",
     "output_type": "stream",
     "text": [
      "number of rows with empty values (9695,),\n",
      "number of columns with empty values (5,),\n",
      " shape of the whole dataset after dropping single valuedcolumns: (786363, 23)\n",
      "percentage of empty rows: 0.013285213063178201\n",
      "unique values of 0th element: [     8    127    139 ... 786127 786140 786147]\n",
      "unique values of 1st element: [ 7  8  9 10 18]\n"
     ]
    }
   ],
   "source": [
    "empty_vals = np.where(transactions.applymap(lambda x: x == ''))\n",
    "print(f\"number of rows with empty values {np.unique(empty_vals[0]).shape},\\n\\\n",
    "number of columns with empty values {np.unique(empty_vals[1]).shape},\\n shape of the whole dataset after dropping single valued\\\n",
    "columns: {transactions.shape}\")\n",
    "print (f\"percentage of empty rows: {len(empty_vals[0])/ transactions.shape[0]}\")\n",
    "print( f\"unique values of 0th element: {np.unique(empty_vals[0])}\")\n",
    "print( f\"unique values of 1st element: {np.unique(empty_vals[1])}\")"
   ]
  },
  {
   "cell_type": "code",
   "execution_count": 10,
   "id": "9c03272f-d020-4bac-b039-0de04a37e883",
   "metadata": {},
   "outputs": [
    {
     "name": "stdout",
     "output_type": "stream",
     "text": [
      "Columns names that have the empty values are: \n",
      "Index(['echoBuffer', 'merchantCity', 'merchantState', 'merchantZip',\n",
      "       'posOnPremises', 'recurringAuthInd'],\n",
      "      dtype='object')\n"
     ]
    }
   ],
   "source": [
    "print ('Columns names that have the empty values are: ')\n",
    "print (single_val_cols.index)"
   ]
  },
  {
   "cell_type": "markdown",
   "id": "4376f7b9-adbb-427a-ba6f-6812a328e167",
   "metadata": {},
   "source": [
    "<h2><span style=\"color:blue\"><b>Question 2: Plot</b><br></span></h2>"
   ]
  },
  {
   "cell_type": "markdown",
   "id": "f4fb15fd-261f-4210-b7a2-180c9771f28c",
   "metadata": {},
   "source": [
    "<h2>Note that all the functions here are implemented in the fraud_detecto.py script. I will include some of them here and show how the plots or results could be reproduced using the class methods.</h2>"
   ]
  },
  {
   "cell_type": "markdown",
   "id": "049beaa8-c811-4b72-be83-25a89b6f283f",
   "metadata": {},
   "source": [
    "<h4><ui>\n",
    "<li> <span style=\"color:blue\">2.a) :</span> The following shows the histogram of all the transaction amounts.\n",
    "</li>\n",
    "</ui></h4>"
   ]
  },
  {
   "cell_type": "code",
   "execution_count": 14,
   "id": "35101fda-5ab7-4933-9cb1-917b284ef373",
   "metadata": {},
   "outputs": [],
   "source": [
    "# The following plot could also be reproduced with the plot_transaction_amount: fd.plot_transaction_amount()"
   ]
  },
  {
   "cell_type": "code",
   "execution_count": 13,
   "id": "28148732-56c7-4f6b-8b4f-90f493ee9278",
   "metadata": {},
   "outputs": [
    {
     "data": {
      "image/png": "[encoded data removed]",
      "text/plain": [
       "<Figure size 1224x504 with 2 Axes>"
      ]
     },
     "metadata": {
      "needs_background": "light"
     },
     "output_type": "display_data"
    }
   ],
   "source": [
    "fig, ax = plt.subplots(1,2,figsize=(17,7))\n",
    "nbins = 20\n",
    "hist_arr = ax[0].hist(transactions[\"transactionAmount\"], bins=nbins)#.hist(ax = ax[0], bins=20)\n",
    "transactions[\"transactionAmount\"].hist(ax = ax[1], bins=nbins)\n",
    "ax[0].set_title('histogram of transactions unscaled', size=20)\n",
    "ax[0].set_xlabel('Transaction amount', size=20)\n",
    "ax[0].set_ylabel('number of transaction', size=20)\n",
    "ax[1].set_title('histogram of transactions log scaled', size=20)\n",
    "ax[1].set_xlabel('Transaction amount', size=20)\n",
    "ax[1].set_ylabel('number of transaction', size=20)\n",
    "ax[1].set_yscale('log')\n",
    "\n",
    "\n",
    "\n",
    "# ax[0].xticks(fontsize=20)\n",
    "# ax[0].yticks(fontsize=20)\n",
    "plt.show()"
   ]
  },
  {
   "cell_type": "code",
   "execution_count": 15,
   "id": "2dc779fe-e518-4f01-a1f9-5af1dc8a9e02",
   "metadata": {},
   "outputs": [
    {
     "name": "stdout",
     "output_type": "stream",
     "text": [
      "20\n",
      "transaction amounts [   0.     100.577  201.154  301.731  402.308  502.885  603.462  704.039\n",
      "  804.616  905.193 1005.77  1106.347 1206.924 1307.501 1408.078 1508.655\n",
      " 1609.232 1709.809 1810.386 1910.963 2011.54 ]\n",
      "[5.40640900e+01 2.25100876e+01 1.14323792e+01 5.84132265e+00\n",
      " 2.98310068e+00 1.54483362e+00 8.03827240e-01 3.96636159e-01\n",
      " 2.01560857e-01 1.05422051e-01 5.62081380e-02 2.97572495e-02\n",
      " 1.62774698e-02 7.63006398e-03 4.19653519e-03 1.27167733e-03\n",
      " 5.08670932e-04 5.08670932e-04 2.54335466e-04 1.27167733e-04]\n",
      "[5.40640900e+01 2.25100876e+01 1.14323792e+01 5.84132265e+00\n",
      " 2.98310068e+00 1.54483362e+00 8.03827240e-01 3.96636159e-01\n",
      " 2.01560857e-01 1.05422051e-01 5.62081380e-02 2.97572495e-02\n",
      " 1.62774698e-02 7.63006398e-03 4.19653519e-03 1.27167733e-03\n",
      " 5.08670932e-04 5.08670932e-04 2.54335466e-04 1.27167733e-04]\n",
      "0.222162029495284\n"
     ]
    }
   ],
   "source": [
    "counts = hist_arr[0]\n",
    "amounts = hist_arr[1][1:]\n",
    "print (len(amounts))\n",
    "percentage = 100*counts/len(transactions)\n",
    "threshold_percentage = percentage[amounts>1000].sum()\n",
    "print (f\"transaction amounts {hist_arr[1]}\")\n",
    "print (100*counts/len(transactions))\n",
    "print (100*counts/len(transactions))\n",
    "print (threshold_percentage)"
   ]
  },
  {
   "cell_type": "markdown",
   "id": "37ed12f3-9f00-4666-97ff-d95d8fa8ce5f",
   "metadata": {},
   "source": [
    "<h4><ui>\n",
    "<li> <span style=\"color:blue\">2.b) :</span> The histograms show that the number of transactions exponentially decreases for larger transaction amounts. Approximately more than 50% of the transactions are under a 100 (in the specific currency). and around 23% are between 100-200.  Transactions amoutns higher than 1000 constitute only 0.22 percent of the data. My hypotehsis is that the fradulant transactions happen mostly in the 0-100 range, from a purely statistical point of view. Also if the fradulant transactions are happening in larger amounts, their detection would be much easier. Therefore its likely that we would  would expect them within the smaller transaction amount range. \n",
    "</li>\n",
    "</ui></h4>"
   ]
  },
  {
   "cell_type": "markdown",
   "id": "c514088b-095a-4761-81f8-6ede1a02a0e9",
   "metadata": {},
   "source": [
    "<h2><span style=\"color:blue\"><b>Question 3: Data Wrangling - Duplicate Transactions</b><br></span></h2>"
   ]
  },
  {
   "cell_type": "markdown",
   "id": "a2b437fd-3edc-44c0-aaa6-6e00e78c8534",
   "metadata": {},
   "source": [
    "<h3>All of the following could be done using the following class method:</h3>"
   ]
  },
  {
   "cell_type": "markdown",
   "id": "3159c8d6-2a1b-4282-9e8a-43af6a59b7fa",
   "metadata": {},
   "source": [
    "```python:\n",
    "fd.find_multiswipe_transactions(transactions, dt_threshold = 120, return_table=None, verbose=False)\n",
    "```\n"
   ]
  },
  {
   "cell_type": "code",
   "execution_count": 16,
   "id": "d14db2cb-e4d0-490e-bd1f-561426fa8199",
   "metadata": {},
   "outputs": [
    {
     "data": {
      "text/plain": [
       "array(['PURCHASE', 'ADDRESS_VERIFICATION', 'REVERSAL', ''], dtype=object)"
      ]
     },
     "execution_count": 16,
     "metadata": {},
     "output_type": "execute_result"
    }
   ],
   "source": [
    "transactions[\"transactionType\"].unique()"
   ]
  },
  {
   "cell_type": "markdown",
   "id": "09e3debb-9d4a-403f-84ce-d82910936c8b",
   "metadata": {},
   "source": [
    "<h4><ui>\n",
    "<li> <span style=\"color:blue\">3.a)</span> Let's first Programmatically identify multiswipe transactions. We note that reversals are \n",
    "    already flagged. If I have more time I can look into unmarked category.</li>\n",
    "</ui>\n",
    "Lets find multi swipe transactions. These transactions happen only a few seconds apart by definition. So they must happen on the same day but separete time. Probably only a few seconds apart. To this end we need to separate date and time in the transaction datetime column of data.</h4>"
   ]
  },
  {
   "cell_type": "code",
   "execution_count": 21,
   "id": "9359cc87-3c06-484d-acd6-c26b0902cceb",
   "metadata": {},
   "outputs": [],
   "source": [
    "#creating date and time columns and dropping transactionDateTime\n",
    "transactions['date'] = pd.to_datetime(transactions['transactionDateTime']).dt.date\n",
    "transactions['time'] = pd.to_datetime(transactions['transactionDateTime']).dt.time\n",
    "transactions = transactions.drop(columns=['transactionDateTime'])"
   ]
  },
  {
   "cell_type": "code",
   "execution_count": 22,
   "id": "5fb7ec38-7fe4-4cde-bee7-a628043d06b8",
   "metadata": {},
   "outputs": [],
   "source": [
    "#change col orders for readability\n",
    "new_col_order = ['accountNumber', 'customerId', 'creditLimit', 'transactionType', 'date', 'time', 'availableMoney',\n",
    "                 'transactionAmount', 'currentBalance' , \n",
    "                 'merchantName', 'acqCountry', 'merchantCountryCode', 'posEntryMode', 'posConditionCode', 'merchantCategoryCode', \n",
    "                 'currentExpDate', 'accountOpenDate', 'dateOfLastAddressChange', 'cardCVV', 'enteredCVV', 'cardLast4Digits',\n",
    "                 'cardPresent', 'expirationDateKeyInMatch', 'isFraud']\n",
    "transactions = transactions[new_col_order]"
   ]
  },
  {
   "cell_type": "code",
   "execution_count": 23,
   "id": "71e58435-c9cd-40e3-9ac5-2abc8da3b603",
   "metadata": {},
   "outputs": [],
   "source": [
    "def find_multiswipe_transactions(transactions, verbose=False, dt_threshold = 120, return_table='all'):\n",
    "    \n",
    "    \"\"\"\n",
    "    This function finds multi-swipe transactions based on the difference between \n",
    "    trasaction times. This difference can be changed in dt_threshold.\n",
    "    Looks at the repeated transactions.\n",
    "    Assumptions for repeated transactions:\n",
    "    1- Happend on the same day\n",
    "    2- Happened consecutively\n",
    "    3- Transaction amount is the same\n",
    "    4- Only a few seconds or minutes apart\n",
    "    5- transactionType might not be specified\n",
    "    6- availableMoney might be different\n",
    "    7- currentBalance might be differen\n",
    "    8- transaction amount is non-zero (the zeros are for verification purposes)\n",
    "    \"\"\"\n",
    "    #first remove columns that are not the same accross multiswipe or duplicate \n",
    "    #transactions. \n",
    "\n",
    "    cols_to_consider = ['accountNumber', 'date', 'transactionAmount', 'merchantName']\n",
    "    \n",
    "    #----------------------------------------older code----------------------------------------#\n",
    "    # cols_to_consider = []    \n",
    "    # for column_name in transactions.columns:\n",
    "    #     #condition excludes the columns that are potentially different between duplicates\n",
    "    #     condition = column_name not in ['time', 'transactionType', 'availableMoney', 'currentBalance']\n",
    "    #     if condition:\n",
    "    #         print (f'\\nentered if condition for: {column_name}')\n",
    "    #         cols_to_consider.append(column_name)\n",
    "    # if verbose:\n",
    "    #     print (cols_to_consider)\n",
    "    #------------------------------------------------------------------------------------------\n",
    "    \n",
    "    transactions_no_time = transactions[cols_to_consider]\n",
    "    duplic_idx = np.where((transactions_no_time.duplicated(keep=False).values==True) & (transactions_no_time['transactionAmount'].values!=0.0))[0]\n",
    "    duplicated_transactions = transactions.loc[duplic_idx]\n",
    "    #exclude reversals\n",
    "    duplicated_transactions = duplicated_transactions[duplicated_transactions['transactionType']=='PURCHASE']\n",
    "    \n",
    "    #create a datetime column from date and time columns\n",
    "    datetime_col = pd.to_datetime(duplicated_transactions['date'].astype(str)+' '+duplicated_transactions['time'].astype(str))\n",
    "    #convert all the values to seconds in this column. This will be used for tracking time elapsed since last transaction\n",
    "    min_datetime = datetime_col.min()\n",
    "    datetime_col = datetime_col.apply(lambda x: (x-min_datetime).total_seconds() )\n",
    "    #assing this as a column of duplic_trans and call it time_seconds\n",
    "    duplicated_transactions['tranRelativeSeconds'] = datetime_col    \n",
    "    j=0\n",
    "    for i in duplicated_transactions['accountNumber'].unique():\n",
    "        temp_df = duplicated_transactions[duplicated_transactions['accountNumber']==i]\n",
    "        temp_df = temp_df.sort_values(by=['tranRelativeSeconds'])\n",
    "        temp_df[\"dtTransaction\"] = temp_df['tranRelativeSeconds'].diff(1)\n",
    "        if j==0:\n",
    "            duplic_trans_with_dt = temp_df\n",
    "        else:\n",
    "            duplic_trans_with_dt = pd.concat([duplic_trans_with_dt, temp_df])\n",
    "        j+=1\n",
    "        # print(temp_df)    \n",
    "    \n",
    "    multiswipe_trans = duplic_trans_with_dt[duplic_trans_with_dt['dtTransaction']<=dt_threshold]\n",
    "    if 'all' in return_table.lower():\n",
    "        return multiswipe_trans, duplicated_transactions, duplic_trans_with_dt\n",
    "    else:\n",
    "        return multiswipe_trans"
   ]
  },
  {
   "cell_type": "code",
   "execution_count": 24,
   "id": "d90e6987-5adb-4a25-b1b4-121b8bbc689e",
   "metadata": {},
   "outputs": [],
   "source": [
    "multiswipe_trans, duplicated_transactions, duplic_trans_with_dt= find_multiswipe_transactions(transactions)\n",
    "reversal_trans = transactions[transactions['transactionType']=='REVERSAL']"
   ]
  },
  {
   "cell_type": "markdown",
   "id": "6bedfc03-a8e8-40c0-a173-37814736659c",
   "metadata": {},
   "source": [
    "<h4><ui>\n",
    "<li> <span style=\"color:blue\">3.b)</span> Total number of transactions for each multiswipe and reversed are as follows</li>\n",
    "</ui></h4>"
   ]
  },
  {
   "cell_type": "code",
   "execution_count": 25,
   "id": "5d226d45-56eb-4314-81d6-b5a318789ea3",
   "metadata": {},
   "outputs": [
    {
     "name": "stdout",
     "output_type": "stream",
     "text": [
      "total number of multiswipe trasactions: 4933\n",
      "total number of reversal trasactions: 20303\n",
      "percentage of multiswipe trasactions: 0.63\n",
      "percentage of reversal trasactions: 2.58\n"
     ]
    }
   ],
   "source": [
    "print(f\"total number of multiswipe trasactions: {multiswipe_trans.shape[0]}\")\n",
    "print(f\"total number of reversal trasactions: {reversal_trans.shape[0]}\")\n",
    "\n",
    "print(f\"percentage of multiswipe trasactions: {100*multiswipe_trans.shape[0]/transactions.shape[0]:.2f}\")\n",
    "print(f\"percentage of reversal trasactions: {100*reversal_trans.shape[0]/transactions.shape[0]:.2f}\")"
   ]
  },
  {
   "cell_type": "markdown",
   "id": "453248c5-bd23-42a5-b016-c7829b03a4f4",
   "metadata": {},
   "source": [
    "<h4><ui>\n",
    "<li> <span style=\"color:blue\">3.c)</span> Total amount in dollar of transactions for each multiswipe and reversed are as follows</li>\n",
    "</ui></h4>"
   ]
  },
  {
   "cell_type": "code",
   "execution_count": 26,
   "id": "6aa68e2c-c6e2-48e2-9c0c-52bd68800d60",
   "metadata": {},
   "outputs": [
    {
     "name": "stdout",
     "output_type": "stream",
     "text": [
      "Total dollar amount of multiswipe trasnactions: 744009.15\n",
      "Total dollar amount of reverse trasnactions: 2821792.50\n",
      "Percentage dollar amount of multiswipe trasnactions: 0.69\n",
      "Percentage dollar amount of reverse trasnactions: 2.62\n"
     ]
    }
   ],
   "source": [
    "print (f\"Total dollar amount of multiswipe trasnactions: {multiswipe_trans['transactionAmount'].sum():.2f}\")\n",
    "print (f\"Total dollar amount of reverse trasnactions: {reversal_trans['transactionAmount'].sum():.2f}\")\n",
    "\n",
    "print (f\"Percentage dollar amount of multiswipe trasnactions: {100*multiswipe_trans['transactionAmount'].sum()/transactions['transactionAmount'].sum():.2f}\")\n",
    "print (f\"Percentage dollar amount of reverse trasnactions: {100*reversal_trans['transactionAmount'].sum()/transactions['transactionAmount'].sum():.2f}\")"
   ]
  },
  {
   "cell_type": "markdown",
   "id": "6b389820-7205-4f58-a276-df3f1d072e4f",
   "metadata": {},
   "source": [
    "<h4><li> <span style=\"color:blue\">3.d)</span> Our interesting finding is that the proportion of fraud transactions in either multiswipe or reversal categories remains approximately the same as the proportion of fraudulant transactions in the full data set (see below code and plot). The reversal data show slighlty more tendency to be fraud compared total data while the multiswipe (with 120 second threshold in between consecutive transactions) category shows lower tendency to be fraud compared to all transactions. That being said, the total number of fraudulant transactions is more than 4 times higher in reversal data as compared to multiswipes. "
   ]
  },
  {
   "cell_type": "code",
   "execution_count": 27,
   "id": "9fd188e7-351f-4e85-98d0-2cc64800d711",
   "metadata": {},
   "outputs": [
    {
     "name": "stdout",
     "output_type": "stream",
     "text": [
      "Reversal: Index([False, True], dtype='object') , values: [19966   337], fraud percentage: 1.66\n",
      "Multiswipe: Index([False, True], dtype='object'), values: [4858   75], fraud percentage: 1.52\n",
      "All transactions: Index([False, True], dtype='object'), values: [773946  12417], fraud percentage: 1.58\n"
     ]
    }
   ],
   "source": [
    "reversal_vals = reversal_trans['isFraud'].value_counts().values\n",
    "multiswipe_vals = multiswipe_trans['isFraud'].value_counts().values\n",
    "alltrans_vals = transactions['isFraud'].value_counts().values\n",
    "\n",
    "print(f\"Reversal: {reversal_trans['isFraud'].value_counts().index} , values: {reversal_vals}, fraud percentage: {100*reversal_vals[1]/reversal_vals.sum():.2f}\")\n",
    "print(f\"Multiswipe: {multiswipe_trans['isFraud'].value_counts().index}, values: {multiswipe_vals}, fraud percentage: {100*multiswipe_vals[1]/multiswipe_vals.sum():.2f}\")\n",
    "print(f\"All transactions: {transactions['isFraud'].value_counts().index}, values: {alltrans_vals}, fraud percentage: {100*alltrans_vals[1]/alltrans_vals.sum():.2f}\")"
   ]
  },
  {
   "cell_type": "code",
   "execution_count": 28,
   "id": "0bd9db7d-86c1-43ed-8efa-ef18020fdc7d",
   "metadata": {},
   "outputs": [
    {
     "data": {
      "image/png": "[encoded data removed]",
      "text/plain": [
       "<Figure size 1080x360 with 2 Axes>"
      ]
     },
     "metadata": {
      "needs_background": "light"
     },
     "output_type": "display_data"
    }
   ],
   "source": [
    "x = [\"reversal\", \"mutiswipe\"]\n",
    "y_True = [reversal_trans['isFraud'].value_counts().values[1], multiswipe_trans['isFraud'].value_counts().values[1]]\n",
    "y_False = [reversal_trans['isFraud'].value_counts().values[0], multiswipe_trans['isFraud'].value_counts().values[0]]\n",
    "fix, ax = plt.subplots(1,2, figsize=(15,5))\n",
    "\n",
    "# plot bars in stack manner\n",
    "ax[0].set_title('normal scale distribution')\n",
    "ax[0].bar(x, y_True, color='red', alpha=0.5)\n",
    "ax[0].bar(x, y_False, bottom=y_True, color='green', alpha=0.5)\n",
    "ax[0].legend([ \"Fraud\", \"Non-Fraud\" ])\n",
    "\n",
    "ax[1].set_title('log scaled distribution')\n",
    "ax[1].bar(x, y_True, color='red', alpha=0.5)\n",
    "ax[1].bar(x, y_False, bottom=y_True, color='green', alpha=0.5)\n",
    "ax[1].set_yscale('log')\n",
    "ax[1].set_ylim([10**0, 10**5])\n",
    "ax[1].legend([ \"Fraud\", \"Non-Fraud\" ])\n",
    "plt.show()"
   ]
  },
  {
   "cell_type": "markdown",
   "id": "faeb9dee-4333-42b1-8792-b6151c2a9adf",
   "metadata": {},
   "source": [
    "<h2><span style=\"color:blue\"><b>Question 4: Model</b><br></span></h2>"
   ]
  },
  {
   "cell_type": "markdown",
   "id": "adeae91e-e244-454b-86e7-c2dda37c3dfa",
   "metadata": {},
   "source": [
    "<h4>For our modelling I will try 3 different models. I will first try the models on the unbalanced input data and afterwards do SMOTE oversampling and run all my models on oversampled and balanced data.</h4>\n",
    "\n",
    "<h4>\n",
    "<ui> \n",
    "<li> <span style=\"color:blue\">Logistic regression: </span> I use logistic regression as my base model. The reason for choosing this model is becuase it deals with linear relations between features, its easy to explain, and its easy and fast to train.</li>\n",
    "\n",
    "<li> <span style=\"color:blue\">Gradient boosting classifier: </span> This model deals with non-linear relations between features and feature splits. With boosting the predictions are sequential and each iteration learns from the errors of the previous iteration. This improves ther performance metrics. It also has the benefit of explainability. I will choose this model for cross validation and fine tuning. </li>\n",
    "    \n",
    "<li> <span style=\"color:blue\">Artificial Neural Networks: </span> I choose ANNs because they are state of the art models. Deeper and bigger networks are typically superior to ther methodologies and have better performance metrics. However, these models require millions of rows of of training data and they are also not easily explainable. I believe with the amount of data we have this model will not perform well.</li>\n",
    "</ui>\n",
    "</h4>"
   ]
  },
  {
   "cell_type": "code",
   "execution_count": 1,
   "id": "12ff2c9f-48b3-4d86-92da-8b374c4a705e",
   "metadata": {},
   "outputs": [
    {
     "name": "stdout",
     "output_type": "stream",
     "text": [
      "fraud_detector is imported\n"
     ]
    }
   ],
   "source": [
    "import numpy as np\n",
    "import pandas as pd\n",
    "pd.set_option('display.max_columns', None)\n",
    "import pickle\n",
    "import json\n",
    "from collections import defaultdict\n",
    "import fraud_detector as frdt\n",
    "import matplotlib.pyplot as plt\n",
    "import requests\n",
    "\n",
    "from datetime import datetime\n",
    "import seaborn as sns\n",
    "from sklearn.ensemble import GradientBoostingClassifier, RandomForestClassifier\n",
    "from sklearn.feature_selection import VarianceThreshold\n",
    "from sklearn.linear_model import LogisticRegression\n",
    "from sklearn.metrics import (average_precision_score, confusion_matrix,\n",
    "                             plot_precision_recall_curve, roc_auc_score)\n",
    "from sklearn.model_selection import GridSearchCV, train_test_split\n",
    "from sklearn.pipeline import Pipeline\n",
    "from sklearn.preprocessing import StandardScaler\n",
    "from sklearn.preprocessing import OneHotEncoder\n",
    "from sklearn import preprocessing"
   ]
  },
  {
   "cell_type": "code",
   "execution_count": 2,
   "id": "a38b2d7d-5384-46b2-a1d4-d1d0bcc18aa8",
   "metadata": {},
   "outputs": [
    {
     "name": "stdout",
     "output_type": "stream",
     "text": [
      "Parsing data...\n",
      "This will take approximately 80 seconds if the file is already downloaded\n",
      "Dropping columns: customerId, and single-valued columns\n"
     ]
    }
   ],
   "source": [
    "fd = frdt.FraudDetection()"
   ]
  },
  {
   "cell_type": "code",
   "execution_count": 3,
   "id": "3ad36055-6425-462a-8fa2-c13d82366a1e",
   "metadata": {},
   "outputs": [],
   "source": [
    "transactions = fd.raw_transactions"
   ]
  },
  {
   "cell_type": "code",
   "execution_count": 4,
   "id": "1db44b2a-df77-4ae4-b3d5-b65bc0522973",
   "metadata": {},
   "outputs": [],
   "source": [
    "rand_state=42"
   ]
  },
  {
   "cell_type": "markdown",
   "id": "21bd1786-7f35-4050-88f2-68e597c9f122",
   "metadata": {},
   "source": [
    "<h2>Feature engineering</h2>"
   ]
  },
  {
   "cell_type": "markdown",
   "id": "8965bd57-3c9a-431f-bae9-6bd9e9d348c8",
   "metadata": {},
   "source": [
    "<h3>Note: all the feature engineering can be done with the following method of FraudDetection class. I have included the steps I have taken in more detail here for readability</h3>"
   ]
  },
  {
   "cell_type": "markdown",
   "id": "6bf9bfe2-451c-4f86-bc09-4f292190a119",
   "metadata": {},
   "source": [
    "```python:\n",
    "fd.prep_data_all(transactions)\n",
    "```"
   ]
  },
  {
   "cell_type": "markdown",
   "id": "6936d9cb-9325-412b-b89d-9d723b10cefa",
   "metadata": {},
   "source": [
    "<h4>Let's look at single valued columns and one to one columns (one to one means they have the same number of unique values and the \n",
    "values in each column have a corresponding value in the other columns)</h4>"
   ]
  },
  {
   "cell_type": "code",
   "execution_count": 5,
   "id": "8856fcc7-1013-42ee-81a5-3cb8ad4f0825",
   "metadata": {},
   "outputs": [
    {
     "name": "stdout",
     "output_type": "stream",
     "text": [
      "accountNumber                 5000\n",
      "customerId                    5000\n",
      "creditLimit                     10\n",
      "availableMoney              521916\n",
      "transactionDateTime         776637\n",
      "transactionAmount            66038\n",
      "merchantName                  2490\n",
      "acqCountry                       5\n",
      "merchantCountryCode              5\n",
      "posEntryMode                     6\n",
      "posConditionCode                 4\n",
      "merchantCategoryCode            19\n",
      "currentExpDate                 165\n",
      "accountOpenDate               1820\n",
      "dateOfLastAddressChange       2184\n",
      "cardCVV                        899\n",
      "enteredCVV                     976\n",
      "cardLast4Digits               5246\n",
      "transactionType                  4\n",
      "echoBuffer                       1\n",
      "currentBalance              487318\n",
      "merchantCity                     1\n",
      "merchantState                    1\n",
      "merchantZip                      1\n",
      "cardPresent                      2\n",
      "posOnPremises                    1\n",
      "recurringAuthInd                 1\n",
      "expirationDateKeyInMatch         2\n",
      "isFraud                          2\n",
      "dtype: int64\n"
     ]
    }
   ],
   "source": [
    "uniques = transactions.nunique()\n",
    "print (uniques)"
   ]
  },
  {
   "cell_type": "code",
   "execution_count": 6,
   "id": "5bc96726-8ecc-4faf-a926-b8e38ff9aca9",
   "metadata": {},
   "outputs": [
    {
     "name": "stdout",
     "output_type": "stream",
     "text": [
      "Is acqCountry and merchantCountryCode one to one:  False\n",
      "Is customerId and accountNumber one to one:  True\n"
     ]
    }
   ],
   "source": [
    "print (\"Is acqCountry and merchantCountryCode one to one: \",transactions['acqCountry'].equals(transactions['merchantCountryCode']))\n",
    "print (\"Is customerId and accountNumber one to one: \",transactions[\"customerId\"].equals(transactions[\"accountNumber\"]))"
   ]
  },
  {
   "cell_type": "code",
   "execution_count": 7,
   "id": "d3d327f2-26fc-4f63-9fea-97aa0c07e425",
   "metadata": {},
   "outputs": [
    {
     "name": "stdout",
     "output_type": "stream",
     "text": [
      "Dropping columns: customerId, and single-valued columns\n"
     ]
    }
   ],
   "source": [
    "transactions = fd.bool_to_int(transactions)\n",
    "transactions = fd.drop_extra_cols(transactions)"
   ]
  },
  {
   "cell_type": "code",
   "execution_count": 8,
   "id": "d0890be9-05b0-48a5-aaa4-e7d146859703",
   "metadata": {},
   "outputs": [],
   "source": [
    "transactions_datetime = fd.dates_to_datetime(transactions, verbose=False)\n",
    "transactions_seconds = fd.datetime_to_ordinal(transactions_datetime)"
   ]
  },
  {
   "cell_type": "code",
   "execution_count": 9,
   "id": "5c49cf84-33fa-4ec0-a99b-7ee95070ee57",
   "metadata": {},
   "outputs": [],
   "source": [
    "imputed_transactions, _ = fd.treat_empty_rows(transactions_seconds, impute=False, verbose=False)"
   ]
  },
  {
   "cell_type": "code",
   "execution_count": 10,
   "id": "48c587bb-8bc8-46e2-b6ed-d17844bbe1c8",
   "metadata": {
    "tags": []
   },
   "outputs": [],
   "source": [
    "# for testing if treat_empty_rows function worked\n",
    "# print (transactions['acqCountry'].value_counts())\n",
    "# print (transactions['merchantCountryCode'].value_counts())\n",
    "# print (transactions['posEntryMode'].value_counts())\n",
    "# print (transactions['posConditionCode'].value_counts())\n",
    "# print (transactions['transactionType'].value_counts())"
   ]
  },
  {
   "cell_type": "code",
   "execution_count": 11,
   "id": "03abf9c1-ae96-4bc9-be46-7193caa416d6",
   "metadata": {
    "tags": []
   },
   "outputs": [],
   "source": [
    "# for testing if treat_empty_rows function worked\n",
    "# print (imputed_transactions['acqCountry'].value_counts())\n",
    "# print (imputed_transactions['merchantCountryCode'].value_counts())\n",
    "# print (imputed_transactions['posEntryMode'].value_counts())\n",
    "# print (imputed_transactions['posConditionCode'].value_counts())\n",
    "# print (imputed_transactions['transactionType'].value_counts())"
   ]
  },
  {
   "cell_type": "markdown",
   "id": "d48d15b0-1b2d-47c2-a8cc-c78264f861c4",
   "metadata": {},
   "source": [
    "<h3>Convert all objects to numbers and perform labelencoding and one hot encoding</h3>"
   ]
  },
  {
   "cell_type": "markdown",
   "id": "98cd760e-5903-4949-af1f-39d9aec7d76b",
   "metadata": {},
   "source": [
    "<ui>\n",
    "    <li><h4>First convert all the relevant object(strings) to numbers</h4></li>\n",
    "</ui>"
   ]
  },
  {
   "cell_type": "code",
   "execution_count": 12,
   "id": "bbb9b975-bb09-401a-aba0-ac2ead8aaafa",
   "metadata": {},
   "outputs": [],
   "source": [
    "imputed_trasactions_int = fd.stringint_to_int(imputed_transactions)"
   ]
  },
  {
   "cell_type": "code",
   "execution_count": 13,
   "id": "48d1eb5e-912e-4319-bc31-5e41db412cc2",
   "metadata": {},
   "outputs": [
    {
     "name": "stdout",
     "output_type": "stream",
     "text": [
      "<class 'pandas.core.frame.DataFrame'>\n",
      "Int64Index: 776668 entries, 0 to 786362\n",
      "Data columns (total 22 columns):\n",
      " #   Column                    Non-Null Count   Dtype  \n",
      "---  ------                    --------------   -----  \n",
      " 0   accountNumber             776668 non-null  int64  \n",
      " 1   creditLimit               776668 non-null  float64\n",
      " 2   availableMoney            776668 non-null  float64\n",
      " 3   transactionDateTime       776668 non-null  float64\n",
      " 4   transactionAmount         776668 non-null  float64\n",
      " 5   merchantName              776668 non-null  object \n",
      " 6   acqCountry                776668 non-null  object \n",
      " 7   merchantCountryCode       776668 non-null  object \n",
      " 8   posEntryMode              776668 non-null  object \n",
      " 9   posConditionCode          776668 non-null  object \n",
      " 10  merchantCategoryCode      776668 non-null  object \n",
      " 11  currentExpDate            776668 non-null  float64\n",
      " 12  accountOpenDate           776668 non-null  float64\n",
      " 13  dateOfLastAddressChange   776668 non-null  float64\n",
      " 14  cardCVV                   776668 non-null  int64  \n",
      " 15  enteredCVV                776668 non-null  int64  \n",
      " 16  cardLast4Digits           776668 non-null  int64  \n",
      " 17  transactionType           776668 non-null  object \n",
      " 18  currentBalance            776668 non-null  float64\n",
      " 19  cardPresent               776668 non-null  int64  \n",
      " 20  expirationDateKeyInMatch  776668 non-null  int64  \n",
      " 21  isFraud                   776668 non-null  int64  \n",
      "dtypes: float64(8), int64(7), object(7)\n",
      "memory usage: 136.3+ MB\n"
     ]
    }
   ],
   "source": [
    "imputed_trasactions_int.info()"
   ]
  },
  {
   "cell_type": "code",
   "execution_count": 14,
   "id": "8a27a199-79c0-42e9-97b6-851e80893d74",
   "metadata": {},
   "outputs": [
    {
     "data": {
      "text/plain": [
       "merchantName            2489\n",
       "acqCountry                 4\n",
       "merchantCountryCode        4\n",
       "posEntryMode               5\n",
       "posConditionCode           3\n",
       "merchantCategoryCode      19\n",
       "transactionType            3\n",
       "dtype: int64"
      ]
     },
     "execution_count": 14,
     "metadata": {},
     "output_type": "execute_result"
    }
   ],
   "source": [
    "imputed_trasactions_int[imputed_trasactions_int.select_dtypes(include='object').columns].nunique()"
   ]
  },
  {
   "cell_type": "markdown",
   "id": "7807bcf4-961d-4720-a03d-a4a3180b165a",
   "metadata": {},
   "source": [
    "<h3>For the rest of the columns we can use either label encoding or one hot encoding. For columns with smaller unique values I will use one hot encoding and for columns with higher number of unique values I will use label encoding.</h3>"
   ]
  },
  {
   "cell_type": "code",
   "execution_count": 15,
   "id": "59a8b130-c83a-49e0-8681-18a6bb43e0c5",
   "metadata": {},
   "outputs": [],
   "source": [
    "le = preprocessing.LabelEncoder()\n",
    "cols = ['merchantName', 'merchantCategoryCode']\n",
    "#df[cols] = #\n",
    "imputed_trasactions_int[cols] = imputed_trasactions_int[cols].apply(le.fit_transform)"
   ]
  },
  {
   "cell_type": "code",
   "execution_count": 16,
   "id": "4460378c-4b17-4141-8f46-f2919629f56c",
   "metadata": {},
   "outputs": [],
   "source": [
    "ohenc = preprocessing.OneHotEncoder()\n",
    "ohenc_cols = [\"acqCountry\", \"merchantCountryCode\", \"posEntryMode\", \"posConditionCode\", \"transactionType\"]\n",
    "# imputed_trasactions_int[cols] = \n",
    "for col in ohenc_cols:\n",
    "    dummies = pd.get_dummies(imputed_trasactions_int[col])\n",
    "    imputed_trasactions_int = imputed_trasactions_int.drop(columns=[col])\n",
    "    imputed_trasactions_int = pd.concat([imputed_trasactions_int, dummies], axis=1)"
   ]
  },
  {
   "cell_type": "code",
   "execution_count": 17,
   "id": "7bea54af-5d3b-4a7f-97a6-3f08452d771e",
   "metadata": {},
   "outputs": [
    {
     "data": {
      "text/plain": [
       "(776668, 36)"
      ]
     },
     "execution_count": 17,
     "metadata": {},
     "output_type": "execute_result"
    }
   ],
   "source": [
    "imputed_trasactions_int.shape"
   ]
  },
  {
   "cell_type": "markdown",
   "id": "327b1bc7-e353-4f77-869f-db063ebdf8a7",
   "metadata": {},
   "source": [
    "<h2>Splitting the data</h2>"
   ]
  },
  {
   "cell_type": "code",
   "execution_count": 18,
   "id": "70151488-c463-44cd-8df5-265428927064",
   "metadata": {},
   "outputs": [],
   "source": [
    "X = imputed_trasactions_int.drop('isFraud', axis=1)\n",
    "y = imputed_trasactions_int['isFraud']"
   ]
  },
  {
   "cell_type": "code",
   "execution_count": null,
   "id": "6034f6eb-d884-49aa-8264-114549a20d75",
   "metadata": {},
   "outputs": [],
   "source": []
  },
  {
   "cell_type": "code",
   "execution_count": 46,
   "id": "7906a0bd-fb01-46ab-a6b9-886bf0ea4613",
   "metadata": {},
   "outputs": [],
   "source": [
    "def model_results(trained_model, ann=False):\n",
    "    \"\"\"Get's the model results that I want for this specific problem\"\"\"\n",
    "    try:\n",
    "        print(f\"Best Parameters: {trained_model.best_params_}\")\n",
    "    except AttributeError:\n",
    "        pass\n",
    "    print (X_train.shape, y_train.shape)\n",
    "    try:\n",
    "        print(\n",
    "        f\"training score: {trained_model.score(X_train, y_train)}\",\n",
    "        f\"testing score: {trained_model.score(X_test, y_test)}\"\n",
    "        )\n",
    "        y_pred_prob = trained_model.predict_proba(X_test)[:, 1]\n",
    "    except: \n",
    "        print(\n",
    "        f\"training score: {trained_model.evaluate(X_train, y_train)}\",\n",
    "        f\"testing score: {trained_model.evaluate(X_test, y_test)}\"\n",
    "        )\n",
    "        y_pred_prob = model.predict(X_test)\n",
    "    print ('y_test',y_test)\n",
    "    print ('y_pred_prob',y_pred_prob)\n",
    "    print (y_test.shape, y_pred_prob.shape)\n",
    "    print(f\"ROC AUC Score: {roc_auc_score(y_test, y_pred_prob)}\")\n",
    "    \n",
    "    # Uses Average Precision as a probability threshold for assignment of classes\n",
    "    threshold = average_precision_score(y_test, y_pred_prob)\n",
    "    print(f\"{threshold=}\")\n",
    "    y_pred = trained_model.predict(X_test)\n",
    "    if ann:\n",
    "        y_pred = np.where(y_pred_prob > 0.5, 1, 0)\n",
    "    predictions = np.where(y_pred_prob > threshold, 1, 0)\n",
    "    print(\"y_test distribution\", np.bincount(y_test))\n",
    "    print(\"prediction distribution\", np.bincount(predictions == 1))\n",
    "\n",
    "    # Plot PR Curve\n",
    "    plot_precision_recall_curve(trained_model, X_test, y_test)\n",
    "    plt.show()\n",
    "    \n",
    "    # Plotting confusion Matrices\n",
    "    f, axes = plt.subplots(1, 2, sharey=True, figsize=[15, 5])\n",
    "    axes[0].set_title(\"Confusion Matrix 50/50\")\n",
    "    try:\n",
    "        sns.heatmap(confusion_matrix(y_test.to_numpy(), y_pred), annot=True, fmt='g', ax=axes[0])\n",
    "    except:\n",
    "        sns.heatmap(confusion_matrix(y_test, y_pred), annot=True, fmt='g', ax=axes[0])\n",
    "    axes[1].set_title(\"Confusion Matrix - Custom Threshold\")\n",
    "    try:\n",
    "        sns.heatmap(confusion_matrix(y_test.to_numpy(), predictions), annot=True, fmt='g', ax=axes[1])\n",
    "    except:\n",
    "        sns.heatmap(confusion_matrix(y_test, predictions), annot=True, fmt='g', ax=axes[1])\n",
    "    plt.show()"
   ]
  },
  {
   "cell_type": "markdown",
   "id": "b04e6aaf-e729-45b9-9476-0100b9a18db8",
   "metadata": {},
   "source": [
    "<h2>Logistic Regression</h2>"
   ]
  },
  {
   "cell_type": "code",
   "execution_count": 20,
   "id": "366cd681-11ad-4fd0-a2c3-0ae15b92b3e5",
   "metadata": {},
   "outputs": [
    {
     "name": "stdout",
     "output_type": "stream",
     "text": [
      "X_train: (621334, 35)\n",
      "X_valid: (77667, 35)\n",
      "X_test: (77667, 35)\n",
      "y_train: (621334,)\n",
      "y_valid: (77667,)\n",
      "y_test: (77667,)\n"
     ]
    }
   ],
   "source": [
    "X_train, X_valid, X_test, y_train, y_valid, y_test = fd.train_test_val(imputed_trasactions_int, verbose=True)"
   ]
  },
  {
   "cell_type": "code",
   "execution_count": null,
   "id": "2b9a4d89-a648-48ab-9b12-190e5ad4a743",
   "metadata": {
    "tags": []
   },
   "outputs": [],
   "source": [
    "pipeline = fd.basic_regression(X_train, y_train)\n",
    "model_results(pipeline)"
   ]
  },
  {
   "cell_type": "markdown",
   "id": "c22dfed9-76ae-43e8-a166-bb75287842ac",
   "metadata": {},
   "source": [
    "<h3>\n",
    "Basic logistic regression with 0.5 probability fails to identify True positive i.e. fraud cases. In order to tackle this issue we can move the prediction probability threshold. This is done by using the average precession (AP) score. Now, if we compare the probability to the AP score threshold and assign all values with probability higher than threshold as fraud and everything below that as non-fraud cases our model seems to perform better. We can see this in the right heatmap plot above. Let's now apply all our models with balanced data either through undersampling, oversamplint, or SMOTE sampling. I will go with SMOTE sampling since undersampling might not be ideal for when we apply the artificial neural network (ANN) model.\n",
    "</h3>"
   ]
  },
  {
   "cell_type": "markdown",
   "id": "c9a87b39-7a6a-434b-809a-3eed0ddb06a8",
   "metadata": {},
   "source": [
    "<h2>Gradient Boosting Classifier</h2>"
   ]
  },
  {
   "cell_type": "code",
   "execution_count": null,
   "id": "a8ae3efc-a740-4b2e-a042-ba42aab14878",
   "metadata": {
    "tags": []
   },
   "outputs": [],
   "source": [
    "gboost = fd.fine_tuned_gboost(X_train, y_train)"
   ]
  },
  {
   "cell_type": "code",
   "execution_count": 44,
   "id": "e22c5abd-a84b-4967-ab66-587db86bbbe1",
   "metadata": {
    "tags": []
   },
   "outputs": [
    {
     "name": "stdout",
     "output_type": "stream",
     "text": [
      "Best Parameters: {'classifier__max_depth': 6, 'classifier__max_features': 4}\n",
      "(621334, 35) (621334,)\n",
      "training score: 0.03321842682544657 testing score: 0.016570008285004142\n",
      "ROC AUC Score: 0.8187771611280521\n",
      "threshold=0.12812075664445746\n",
      "y_test distribution [76460  1207]\n",
      "prediction distribution [77244   423]\n"
     ]
    },
    {
     "name": "stderr",
     "output_type": "stream",
     "text": [
      "/Users/sayebms1/opt/anaconda3/lib/python3.9/site-packages/sklearn/utils/deprecation.py:87: FutureWarning: Function plot_precision_recall_curve is deprecated; Function `plot_precision_recall_curve` is deprecated in 1.0 and will be removed in 1.2. Use one of the class methods: PrecisionRecallDisplay.from_predictions or PrecisionRecallDisplay.from_estimator.\n",
      "  warnings.warn(msg, category=FutureWarning)\n"
     ]
    },
    {
     "data": {
      "image/png": "[encoded data removed]",
      "text/plain": [
       "<Figure size 432x288 with 1 Axes>"
      ]
     },
     "metadata": {
      "needs_background": "light"
     },
     "output_type": "display_data"
    },
    {
     "data": {
      "image/png": "[encoded data removed]",
      "text/plain": [
       "<Figure size 1080x360 with 4 Axes>"
      ]
     },
     "metadata": {
      "needs_background": "light"
     },
     "output_type": "display_data"
    }
   ],
   "source": [
    "model_results(gboost)"
   ]
  },
  {
   "cell_type": "markdown",
   "id": "bf5eb12a-396f-4c87-8379-a9feea0cba90",
   "metadata": {},
   "source": [
    "<h2>Artificial Neural Network</h2>"
   ]
  },
  {
   "cell_type": "code",
   "execution_count": 21,
   "id": "64d65592-0148-43a0-b50c-7caaa79f73ec",
   "metadata": {},
   "outputs": [
    {
     "name": "stderr",
     "output_type": "stream",
     "text": [
      "2022-05-13 12:22:03.684643: I tensorflow/core/platform/cpu_feature_guard.cc:151] This TensorFlow binary is optimized with oneAPI Deep Neural Network Library (oneDNN) to use the following CPU instructions in performance-critical operations:  AVX2 FMA\n",
      "To enable them in other operations, rebuild TensorFlow with the appropriate compiler flags.\n"
     ]
    },
    {
     "name": "stdout",
     "output_type": "stream",
     "text": [
      "Epoch 1/5\n",
      "9709/9709 [==============================] - 11s 1ms/step - loss: 0.0785 - binary_accuracy: 0.9845 - val_loss: 0.0742 - val_binary_accuracy: 0.9845\n",
      "Epoch 2/5\n",
      "9709/9709 [==============================] - 11s 1ms/step - loss: 0.0744 - binary_accuracy: 0.9846 - val_loss: 0.0745 - val_binary_accuracy: 0.9845\n",
      "Epoch 3/5\n",
      "9709/9709 [==============================] - 11s 1ms/step - loss: 0.0740 - binary_accuracy: 0.9846 - val_loss: 0.0745 - val_binary_accuracy: 0.9845\n",
      "Epoch 4/5\n",
      "9709/9709 [==============================] - 11s 1ms/step - loss: 0.0738 - binary_accuracy: 0.9846 - val_loss: 0.0741 - val_binary_accuracy: 0.9845\n",
      "Epoch 5/5\n",
      "9709/9709 [==============================] - 11s 1ms/step - loss: 0.0736 - binary_accuracy: 0.9846 - val_loss: 0.0735 - val_binary_accuracy: 0.9845\n"
     ]
    }
   ],
   "source": [
    "model = fd.simple_ann(X_train, y_train, X_valid, y_valid, metrics='binary_accuracy')"
   ]
  },
  {
   "cell_type": "code",
   "execution_count": 60,
   "id": "461864f7-8c9a-41f8-b11e-ece716fb5c57",
   "metadata": {},
   "outputs": [
    {
     "name": "stdout",
     "output_type": "stream",
     "text": [
      "2428/2428 [==============================] - 2s 686us/step - loss: 0.0750 - binary_accuracy: 0.9843\n"
     ]
    },
    {
     "data": {
      "text/plain": [
       "[0.0750325471162796, 0.9843176603317261]"
      ]
     },
     "execution_count": 60,
     "metadata": {},
     "output_type": "execute_result"
    }
   ],
   "source": [
    "model.evaluate(X_test, y_test)"
   ]
  },
  {
   "cell_type": "code",
   "execution_count": 48,
   "id": "9a8526c7-dfbd-4b8e-afa0-3000519ac8cb",
   "metadata": {},
   "outputs": [],
   "source": []
  },
  {
   "cell_type": "markdown",
   "id": "521c8680-ac92-4349-b8c8-69ceb7d0ebdb",
   "metadata": {},
   "source": [
    "<h2>Logistic regression with SMOTE oversampling</h2>"
   ]
  },
  {
   "cell_type": "markdown",
   "id": "b174d0b9-e673-45b9-a0b0-36e627ae7882",
   "metadata": {},
   "source": [
    "<h3>Note: you can do under sampling or over sampling with the sampler_type in fd.data_sampler method</h3>"
   ]
  },
  {
   "cell_type": "code",
   "execution_count": 33,
   "id": "79bddca1-b8ce-4103-91f4-ea4c855c9263",
   "metadata": {},
   "outputs": [],
   "source": [
    "from collections import Counter\n",
    "from sklearn.datasets import make_classification"
   ]
  },
  {
   "cell_type": "code",
   "execution_count": 36,
   "id": "1248d3eb-e77c-441a-bd16-636bfdd164e0",
   "metadata": {},
   "outputs": [
    {
     "name": "stdout",
     "output_type": "stream",
     "text": [
      "SMOTE sampling\n",
      "Original dataset shape Counter({0: 611787, 1: 9547})\n",
      "Resampled dataset shape Counter({0: 611787, 1: 611787})\n"
     ]
    }
   ],
   "source": [
    "X_res, y_res = fd.data_sampler(X_train, y_train, sampler_type='SMOTE') #pick sampling method 'over sample', under sample, SMOTE"
   ]
  },
  {
   "cell_type": "code",
   "execution_count": 37,
   "id": "65671391-62b1-4940-a534-887ca499bc86",
   "metadata": {},
   "outputs": [
    {
     "name": "stdout",
     "output_type": "stream",
     "text": [
      "(621334, 35) (621334,)\n",
      "training score: 0.6590625975723202 testing score: 0.658220350985618\n",
      "(77667,) (77667,)\n",
      "ROC AUC Score: 0.7102659808987354\n",
      "threshold=0.04160960688835699\n",
      "y_test distribution [76449  1218]\n",
      "prediction distribution [    0 77667]\n"
     ]
    },
    {
     "name": "stderr",
     "output_type": "stream",
     "text": [
      "/Users/sayebms1/opt/anaconda3/lib/python3.9/site-packages/sklearn/utils/deprecation.py:87: FutureWarning: Function plot_precision_recall_curve is deprecated; Function `plot_precision_recall_curve` is deprecated in 1.0 and will be removed in 1.2. Use one of the class methods: PrecisionRecallDisplay.from_predictions or PrecisionRecallDisplay.from_estimator.\n",
      "  warnings.warn(msg, category=FutureWarning)\n"
     ]
    },
    {
     "data": {
      "image/png": "[encoded data removed]",
      "text/plain": [
       "<Figure size 432x288 with 1 Axes>"
      ]
     },
     "metadata": {
      "needs_background": "light"
     },
     "output_type": "display_data"
    },
    {
     "data": {
      "image/png": "[encoded data removed]",
      "text/plain": [
       "<Figure size 1080x360 with 4 Axes>"
      ]
     },
     "metadata": {
      "needs_background": "light"
     },
     "output_type": "display_data"
    }
   ],
   "source": [
    "pipeline = fd.basic_regression(X_res, y_res)\n",
    "model_results(pipeline)"
   ]
  },
  {
   "cell_type": "markdown",
   "id": "4dc59dfa-506b-44b0-a337-d719e83fb6a2",
   "metadata": {},
   "source": [
    "<h2>Gradient Boosting Classifier with SMOTE oversampling</h2>"
   ]
  },
  {
   "cell_type": "code",
   "execution_count": 38,
   "id": "69c993ec-8fbd-4264-8259-56aa8a1f6595",
   "metadata": {},
   "outputs": [
    {
     "name": "stdout",
     "output_type": "stream",
     "text": [
      "Fitting 2 folds for each of 6 candidates, totalling 12 fits\n",
      "[CV 1/2; 1/6] START classifier__max_depth=3, classifier__max_features=3.........\n",
      "[CV 1/2; 1/6] END classifier__max_depth=3, classifier__max_features=3;, score=0.798 total time=  47.3s\n",
      "[CV 2/2; 1/6] START classifier__max_depth=3, classifier__max_features=3.........\n",
      "[CV 2/2; 1/6] END classifier__max_depth=3, classifier__max_features=3;, score=0.806 total time=  47.2s\n",
      "[CV 1/2; 2/6] START classifier__max_depth=3, classifier__max_features=4.........\n",
      "[CV 1/2; 2/6] END classifier__max_depth=3, classifier__max_features=4;, score=0.808 total time=  56.4s\n",
      "[CV 2/2; 2/6] START classifier__max_depth=3, classifier__max_features=4.........\n",
      "[CV 2/2; 2/6] END classifier__max_depth=3, classifier__max_features=4;, score=0.820 total time=  57.8s\n",
      "[CV 1/2; 3/6] START classifier__max_depth=5, classifier__max_features=3.........\n",
      "[CV 1/2; 3/6] END classifier__max_depth=5, classifier__max_features=3;, score=0.845 total time= 1.3min\n",
      "[CV 2/2; 3/6] START classifier__max_depth=5, classifier__max_features=3.........\n",
      "[CV 2/2; 3/6] END classifier__max_depth=5, classifier__max_features=3;, score=0.851 total time= 1.3min\n",
      "[CV 1/2; 4/6] START classifier__max_depth=5, classifier__max_features=4.........\n",
      "[CV 1/2; 4/6] END classifier__max_depth=5, classifier__max_features=4;, score=0.866 total time= 1.5min\n",
      "[CV 2/2; 4/6] START classifier__max_depth=5, classifier__max_features=4.........\n",
      "[CV 2/2; 4/6] END classifier__max_depth=5, classifier__max_features=4;, score=0.883 total time= 1.4min\n",
      "[CV 1/2; 5/6] START classifier__max_depth=6, classifier__max_features=3.........\n",
      "[CV 1/2; 5/6] END classifier__max_depth=6, classifier__max_features=3;, score=0.862 total time= 1.4min\n",
      "[CV 2/2; 5/6] START classifier__max_depth=6, classifier__max_features=3.........\n",
      "[CV 2/2; 5/6] END classifier__max_depth=6, classifier__max_features=3;, score=0.878 total time= 1.4min\n",
      "[CV 1/2; 6/6] START classifier__max_depth=6, classifier__max_features=4.........\n",
      "[CV 1/2; 6/6] END classifier__max_depth=6, classifier__max_features=4;, score=0.881 total time= 1.8min\n",
      "[CV 2/2; 6/6] START classifier__max_depth=6, classifier__max_features=4.........\n",
      "[CV 2/2; 6/6] END classifier__max_depth=6, classifier__max_features=4;, score=0.893 total time= 1.7min\n"
     ]
    }
   ],
   "source": [
    "gboost = fd.fine_tuned_gboost(X_res, y_res)"
   ]
  },
  {
   "cell_type": "code",
   "execution_count": 39,
   "id": "2e2d2bff-65e2-49e7-8324-fd7b924c3e97",
   "metadata": {},
   "outputs": [
    {
     "name": "stdout",
     "output_type": "stream",
     "text": [
      "Best Parameters: {'classifier__max_depth': 6, 'classifier__max_features': 4}\n",
      "(621334, 35) (621334,)\n",
      "training score: 0.5447784644390908 testing score: 0.48111658456486045\n",
      "(77667,) (77667,)\n",
      "ROC AUC Score: 0.7418813514686082\n",
      "threshold=0.06492443590376132\n",
      "y_test distribution [76449  1218]\n",
      "prediction distribution [ 9495 68172]\n"
     ]
    },
    {
     "name": "stderr",
     "output_type": "stream",
     "text": [
      "/Users/sayebms1/opt/anaconda3/lib/python3.9/site-packages/sklearn/utils/deprecation.py:87: FutureWarning: Function plot_precision_recall_curve is deprecated; Function `plot_precision_recall_curve` is deprecated in 1.0 and will be removed in 1.2. Use one of the class methods: PrecisionRecallDisplay.from_predictions or PrecisionRecallDisplay.from_estimator.\n",
      "  warnings.warn(msg, category=FutureWarning)\n"
     ]
    },
    {
     "data": {
      "image/png": "[encoded data removed]",
      "text/plain": [
       "<Figure size 432x288 with 1 Axes>"
      ]
     },
     "metadata": {
      "needs_background": "light"
     },
     "output_type": "display_data"
    },
    {
     "data": {
      "image/png": "[encoded data removed]",
      "text/plain": [
       "<Figure size 1080x360 with 4 Axes>"
      ]
     },
     "metadata": {
      "needs_background": "light"
     },
     "output_type": "display_data"
    }
   ],
   "source": [
    "model_results(gboost)"
   ]
  },
  {
   "cell_type": "markdown",
   "id": "b209b646-8bb1-4b9e-b792-ed8d9d5edda0",
   "metadata": {},
   "source": [
    "<h3>ANN with SMOTE oversampling</h3>"
   ]
  },
  {
   "cell_type": "code",
   "execution_count": 61,
   "id": "d46c7015-e573-4a40-87c5-fae3a5ac2569",
   "metadata": {},
   "outputs": [
    {
     "name": "stdout",
     "output_type": "stream",
     "text": [
      "Epoch 1/5\n",
      "19119/19119 [==============================] - 20s 990us/step - loss: 0.5621 - binary_accuracy: 0.7103 - val_loss: 0.5935 - val_binary_accuracy: 0.7002\n",
      "Epoch 2/5\n",
      "19119/19119 [==============================] - 19s 1ms/step - loss: 0.5298 - binary_accuracy: 0.7351 - val_loss: 0.6037 - val_binary_accuracy: 0.6715\n",
      "Epoch 3/5\n",
      "19119/19119 [==============================] - 19s 984us/step - loss: 0.5217 - binary_accuracy: 0.7400 - val_loss: 0.5585 - val_binary_accuracy: 0.7215\n",
      "Epoch 4/5\n",
      "19119/19119 [==============================] - 19s 979us/step - loss: 0.5180 - binary_accuracy: 0.7424 - val_loss: 0.6028 - val_binary_accuracy: 0.6770\n",
      "Epoch 5/5\n",
      "19119/19119 [==============================] - 21s 1ms/step - loss: 0.5140 - binary_accuracy: 0.7445 - val_loss: 0.5692 - val_binary_accuracy: 0.7212\n"
     ]
    }
   ],
   "source": [
    "model = fd.simple_ann(X_res, y_res, X_valid, y_valid, metrics='binary_accuracy')"
   ]
  },
  {
   "cell_type": "code",
   "execution_count": 62,
   "id": "17df38d7-4a4d-4306-af4e-46552d0bec55",
   "metadata": {},
   "outputs": [
    {
     "name": "stdout",
     "output_type": "stream",
     "text": [
      "2428/2428 [==============================] - 2s 762us/step - loss: 0.5726 - binary_accuracy: 0.7173\n"
     ]
    }
   ],
   "source": [
    "score = model.evaluate(X_test, y_test)"
   ]
  },
  {
   "cell_type": "code",
   "execution_count": 63,
   "id": "5665a3f4-611c-4b1e-b305-c79a00f90170",
   "metadata": {},
   "outputs": [
    {
     "data": {
      "text/plain": [
       "[0.5726101994514465, 0.7173059582710266]"
      ]
     },
     "execution_count": 63,
     "metadata": {},
     "output_type": "execute_result"
    }
   ],
   "source": [
    "score"
   ]
  },
  {
   "cell_type": "code",
   "execution_count": 89,
   "id": "0e951f8c-6263-44e0-8e1f-77bbe29e90f2",
   "metadata": {},
   "outputs": [
    {
     "data": {
      "text/plain": [
       "Counter({0: 1})"
      ]
     },
     "execution_count": 89,
     "metadata": {},
     "output_type": "execute_result"
    }
   ],
   "source": [
    "Counter(pd.DataFrame(y_pred))"
   ]
  },
  {
   "cell_type": "markdown",
   "id": "a097dba6-24bf-4f44-8c39-9fe3c76de51c",
   "metadata": {},
   "source": [
    "<h2>Conclusion</h2>"
   ]
  },
  {
   "cell_type": "markdown",
   "id": "1e5cd357-8e76-4c6d-a7b1-eb9e823136b1",
   "metadata": {},
   "source": [
    "From the two models that I finalized analyzing (gradient boosting, and basic regression) the gradient boosting seems to perform better at identifying anomalies. Overall the introduction of a probability threshold based on average precesion score seems to help in identification of fraudulant transactions. My implementation of ANN is not complete yet and is part of next steps."
   ]
  },
  {
   "cell_type": "markdown",
   "id": "1397ccd6-b7b0-4be6-ad19-fbcc433fc7f5",
   "metadata": {},
   "source": [
    "<h2>Next steps</h2>"
   ]
  },
  {
   "cell_type": "markdown",
   "id": "5f78ad93-afcb-4a84-bfef-cc5568fd2ad2",
   "metadata": {},
   "source": [
    "<ui>\n",
    "<li>\n",
    "More feature engineering. For instance I can make signle columns from card cvv and entered cvv by looking at the difference and marking 1 or 0 if the entered cvv and card cvv match or not. I can also add the time elapsed since last transaction into the model. Though that was initially my plan but I didn't have time to impolement it. \n",
    "</li>\n",
    "\n",
    "<li>\n",
    "I have not yet finalized the implementation of ANN. As a next step I would like to finaslize the model_results function to visualize for the performance of ANN. \n",
    "</li>\n",
    "    \n",
    "    \n",
    "\n",
    "<li>\n",
    "The question regarding the reversal transactions was not very clear. Though they reversals are flagged in the data I did not have much time to look at them. I tried a quick elapsed time threshold estimation by taking any duplicate transaction that happens in 120 seconds multiswipe and all transaction beyond that as reversal. This, however proved to be insufficient, as it does not take into account subscriptions which look typically like a duplicate transaction if the time periodicity is not taken into account. Therefore, if given more time I can look in more detail into the reversals and also unmarked categories. \n",
    "</li>\n",
    "    \n",
    "<li>\n",
    "For simpliclity I have done only 2 cv on my gradeitn boosting classifier. As a next step I could explore more of the feature space and perform more cross validations. I can also explore different ANN configurations for my ANN model. \n",
    "</li>\n",
    "    \n",
    "<li>\n",
    "For over sampling I can impolement Generative Networks to get synthetic data to train my models. \n",
    "</li>\n",
    "    \n",
    "<li>\n",
    "Train an anomally detection algorithm. This works by training an autoencoder with one of the labels. The model will learn to encode and decode that specific class and whenever its fed an anomalous feature set it will not be able to reproduce the targets that it was trained on. This another method worth exploring with fraud detection as fraudulant transactions are a good example of anomalous event.     \n",
    "</li>\n",
    "    \n",
    "    \n",
    "<li>\n",
    "From a coding perspective I did not have time to implement unit testing. Therefore, if given more time this is an important next step that I need to do.\n",
    "</li>\n",
    "    \n",
    "</ui>"
   ]
  },
  {
   "cell_type": "markdown",
   "id": "24a62216-13f0-44b1-b909-6bed80f87704",
   "metadata": {},
   "source": [
    "<h2>References</h2>"
   ]
  },
  {
   "cell_type": "markdown",
   "id": "a238c259-51e5-47b5-863b-87be715e0d45",
   "metadata": {},
   "source": [
    "Various references has been used in the compilation of this notebook. I have used scikitlearn, keras, and pandas webpages and the example codes therein. I have used references from Kaggle notebooks and github resources. \n",
    "\n",
    "\n",
    "- https://www.kaggle.com/datasets/mlg-ulb/creditcardfraud\n",
    "- https://machinelearningmastery.com/imbalanced-classification-with-the-fraudulent-credit-card-transactions-dataset/"
   ]
  },
  {
   "cell_type": "code",
   "execution_count": null,
   "id": "9be48759-a8cc-49ad-8a80-a40f284fd9b2",
   "metadata": {},
   "outputs": [],
   "source": []
  }
 ],
 "metadata": {
  "kernelspec": {
   "display_name": ".cptone",
   "language": "python",
   "name": ".cptone"
  },
  "language_info": {
   "codemirror_mode": {
    "name": "ipython",
    "version": 3
   },
   "file_extension": ".py",
   "mimetype": "text/x-python",
   "name": "python",
   "nbconvert_exporter": "python",
   "pygments_lexer": "ipython3",
   "version": "3.9.7"
  }
 },
 "nbformat": 4,
 "nbformat_minor": 5
}
